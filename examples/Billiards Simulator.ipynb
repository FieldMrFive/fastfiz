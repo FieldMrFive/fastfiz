{
 "cells": [
  {
   "cell_type": "code",
   "execution_count": 1,
   "metadata": {},
   "outputs": [],
   "source": [
    "from fastfiz import fastfiz as FastFiz\n",
    "import cv2\n",
    "import matplotlib.pyplot as plt\n",
    "import numpy as np\n",
    "import os\n",
    "import itertools\n",
    "%matplotlib inline\n",
    "\n",
    "def get_ball_positions(table_state):\n",
    "    balls = []\n",
    "    for i in range(0,15):\n",
    "        b = tb.getBall(i)\n",
    "        if b.isInPlay():\n",
    "            pos = b.getPos()\n",
    "            balls.append((i, (pos.x, pos.y)))\n",
    "    return balls\n",
    "\n",
    "def render_balls(table_state, scale=300, output_filename='positions.png'):\n",
    "    table = table_state.getTable()\n",
    "    ball_infos = get_ball_positions(table_state)\n",
    "    ball_colors = {0:(255, 255, 255), 1:(255, 255, 0), 2:(0, 0, 255), 3:(255, 0, 0), 4:(255, 0, 255), 5:(255, 150, 0), 6:(10, 200, 40), 7:(150, 150, 150), 8:(10, 10, 10), 9:(180, 180, 10)}\n",
    "    \n",
    "    bg_color=(6,63,128)\n",
    "    ball_radius=int(table_state.getBall(0).getRadius()*scale)\n",
    "    \n",
    "    img_height, img_width, margin = (int(scale*table.TABLE_WIDTH), int(scale*table.TABLE_LENGTH), int(scale*0.04)) \n",
    "    img = np.zeros((img_width + 2*margin, img_height + 2*margin, 3), np.uint8)\n",
    "    for x in range(margin, img_width + margin):\n",
    "        for y in range(margin, img_height + margin):\n",
    "            img[x, y, :] = bg_color[:]\n",
    "    for b_id, b_pos in ball_infos:\n",
    "        cv2.circle(img, tuple(map(lambda x, y: x + y, (int(b_pos[0]*scale),int(b_pos[1]*scale)), (margin, margin))), ball_radius, ball_colors[b_id], -1)\n",
    "\n",
    "    plt.figure(figsize=(img_width/40,img_height/40))\n",
    "    plt.imshow(img)\n",
    "    plt.show()\n",
    "    \n",
    "def newTable(balls=[(0,(0.5,0.5))]):\n",
    "    tb = FastFiz.TableState()\n",
    "    for b in balls:\n",
    "        if b[1][0]>0.0 and b[1][1]>0.0:\n",
    "            tb.setBall(b[0], FastFiz.Ball.STATIONARY, FastFiz.Point(b[1][0],b[1][1]))\n",
    "    return tb"
   ]
  },
  {
   "cell_type": "code",
   "execution_count": 2,
   "metadata": {},
   "outputs": [],
   "source": [
    "ballString = \"0.5,0.5 0.25,0.2 0.12,0.06 0.34,0.87 1.0,1.1 0.0,0.0 0.0,0.0 0.0,0.0 0.0,0.0 0.0,0.0\"\n",
    "balls = [(i, (float(p.split(',')[0]), float(p.split(',')[1]))) for i, p in enumerate(ballString.split(\" \"))]"
   ]
  },
  {
   "cell_type": "code",
   "execution_count": 3,
   "metadata": {},
   "outputs": [],
   "source": [
    "tb = newTable(balls=balls)"
   ]
  },
  {
   "cell_type": "code",
   "execution_count": 4,
   "metadata": {},
   "outputs": [
    {
     "data": {
      "image/png": "[encoded data removed]",
      "text/plain": [
       "<Figure size 1006.2x502.2 with 1 Axes>"
      ]
     },
     "metadata": {},
     "output_type": "display_data"
    }
   ],
   "source": [
    "render_balls(tb, scale=250)"
   ]
  },
  {
   "cell_type": "code",
   "execution_count": 5,
   "metadata": {},
   "outputs": [
    {
     "data": {
      "text/plain": [
       "True"
      ]
     },
     "execution_count": 5,
     "metadata": {},
     "output_type": "execute_result"
    }
   ],
   "source": [
    "tb.getBall(2).isInPlay()"
   ]
  },
  {
   "cell_type": "code",
   "execution_count": 6,
   "metadata": {},
   "outputs": [],
   "source": [
    "shotParams = FastFiz.ShotParams()\n",
    "shotParams.v = 1.0\n",
    "shotParams.a = 6\n",
    "shotParams.b = 8\n",
    "shotParams.phi = 230\n",
    "shotParams.theta = 11"
   ]
  },
  {
   "cell_type": "code",
   "execution_count": 7,
   "metadata": {},
   "outputs": [
    {
     "data": {
      "text/plain": [
       "<fastfiz.fastfiz.Shot; proxy of <Swig Object of type 'Pool::Shot *' at 0x106572e10> >"
      ]
     },
     "execution_count": 7,
     "metadata": {},
     "output_type": "execute_result"
    }
   ],
   "source": [
    "tb.executeShot(shotParams)"
   ]
  },
  {
   "cell_type": "code",
   "execution_count": 8,
   "metadata": {},
   "outputs": [
    {
     "data": {
      "image/png": "[encoded data removed]",
      "text/plain": [
       "<Figure size 1006.2x502.2 with 1 Axes>"
      ]
     },
     "metadata": {},
     "output_type": "display_data"
    }
   ],
   "source": [
    "render_balls(tb, scale=250)"
   ]
  },
  {
   "cell_type": "code",
   "execution_count": 9,
   "metadata": {},
   "outputs": [
    {
     "data": {
      "text/plain": [
       "False"
      ]
     },
     "execution_count": 9,
     "metadata": {},
     "output_type": "execute_result"
    }
   ],
   "source": [
    "tb.getBall(2).isInPlay()"
   ]
  },
  {
   "cell_type": "code",
   "execution_count": null,
   "metadata": {},
   "outputs": [],
   "source": []
  }
 ],
 "metadata": {
  "kernelspec": {
   "display_name": "Python 3",
   "language": "python",
   "name": "python3"
  },
  "language_info": {
   "codemirror_mode": {
    "name": "ipython",
    "version": 3
   },
   "file_extension": ".py",
   "mimetype": "text/x-python",
   "name": "python",
   "nbconvert_exporter": "python",
   "pygments_lexer": "ipython3",
   "version": "3.6.5"
  }
 },
 "nbformat": 4,
 "nbformat_minor": 2
}
